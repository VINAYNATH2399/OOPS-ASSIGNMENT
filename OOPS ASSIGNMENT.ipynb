{
 "cells": [
  {
   "cell_type": "code",
   "execution_count": null,
   "metadata": {},
   "outputs": [],
   "source": []
  },
  {
   "cell_type": "markdown",
   "metadata": {},
   "source": [
    "Challenge 1: Square Numbers and Return Their Sum"
   ]
  },
  {
   "cell_type": "code",
   "execution_count": null,
   "metadata": {},
   "outputs": [],
   "source": []
  },
  {
   "cell_type": "markdown",
   "metadata": {},
   "source": [
    "Challenge 2: Implement a Calculator Class"
   ]
  },
  {
   "cell_type": "code",
   "execution_count": null,
   "metadata": {},
   "outputs": [],
   "source": [
    "class cal():\n",
    "    def __init__(self,a,b):\n",
    "        self.a=a\n",
    "        self.b=b\n",
    "    def add(self):\n",
    "        return self.a+self.b\n",
    "    def mul(self):\n",
    "        return self.a*self.b\n",
    "    def div(self):\n",
    "        return self.a/self.b\n",
    "    def sub(self):\n",
    "        return self.a-self.b\n",
    "a=int(input(\"Enter first number: \"))\n",
    "b=int(input(\"Enter second number: \"))\n",
    "obj=cal(a,b)\n",
    "choice=1\n",
    "while choice!=0:\n",
    "    print(\"0. Exit\")\n",
    "    print(\"1. Add\")\n",
    "    print(\"2. Subtraction\")\n",
    "    print(\"3. Multiplication\")\n",
    "    print(\"4. Division\")\n",
    "    choice=int(input(\"Enter choice: \"))\n",
    "    if choice==1:\n",
    "        print(\"Result: \",obj.add())\n",
    "    elif choice==2:\n",
    "        print(\"Result: \",obj.sub())\n",
    "    elif choice==3:\n",
    "        print(\"Result: \",obj.mul())\n",
    "    elif choice==4:\n",
    "        print(\"Result: \",round(obj.div(),2))\n",
    "    elif choice==0:\n",
    "        print(\"Exiting!\")\n",
    "    else:\n",
    "        print(\"Invalid choice!!\")\n",
    " \n",
    " \n",
    "print()"
   ]
  },
  {
   "cell_type": "markdown",
   "metadata": {},
   "source": [
    "Challenge 3: Implement the Complete Student Class"
   ]
  },
  {
   "cell_type": "code",
   "execution_count": null,
   "metadata": {},
   "outputs": [],
   "source": [
    "class Student:\n",
    " \n",
    " \n",
    "    def __init__(self, name, rollno, m1, m2):\n",
    "        self.name = name\n",
    "        self.rollno = rollno\n",
    "        self.m1 = m1\n",
    "        self.m2 = m2\n",
    " \n",
    "    \n",
    "    def accept(self, Name, Rollno, marks1, marks2):\n",
    "   \n",
    "  \n",
    "        ob = Student(Name, Rollno, marks1, marks2)\n",
    "        ls.append(ob)\n",
    " \n",
    "   \n",
    "    def display(self, ob):\n",
    "        print(\"Name : \", ob.name)\n",
    "        print(\"RollNo : \", ob.rollno)\n",
    "        print(\"Marks1 : \", ob.m1)\n",
    "        print(\"Marks2 : \", ob.m2)\n",
    "        print(\"\\n\")\n",
    " \n",
    "    \n",
    "    def search(self, rn):\n",
    "        for i in range(ls.__len__()):\n",
    "            if(ls[i].rollno == rn):\n",
    "                return i\n",
    " \n",
    "    \n",
    "    def delete(self, rn):\n",
    "        i = obj.search(rn)\n",
    "        del ls[i]\n",
    " \n",
    "    \n",
    "    def update(self, rn, No):\n",
    "        i = obj.search(rn)\n",
    "        roll = No\n",
    "        ls[i].rollno = roll\n",
    " \n",
    " \n",
    "\n",
    "ls = []\n",
    "# an object of Student class\n",
    "obj = Student('', 0, 0, 0)\n",
    " \n",
    "print(\"\\nOperations used, \")\n",
    "print(\"\\n1.Accept Student details\\n2.Display Student Details\\n3.Search Details of a Student\\n4.Delete Details of Student\\n5.Update Student Details\\n6.Exit\")\n",
    " \n",
    "# ch = int(input(\"Enter choice:\"))\n",
    "# if(ch == 1):\n",
    "obj.accept(\"A\", 1, 100, 100)\n",
    "obj.accept(\"B\", 2, 90, 90)\n",
    "obj.accept(\"C\", 3, 80, 80)\n",
    " \n",
    "# elif(ch == 2):\n",
    "print(\"\\n\")\n",
    "print(\"\\nList of Students\\n\")\n",
    "for i in range(ls.__len__()):\n",
    "    obj.display(ls[i])\n",
    " \n",
    "# elif(ch == 3):\n",
    "print(\"\\n Student Found, \")\n",
    "s = obj.search(2)\n",
    "obj.display(ls[s])\n",
    " \n",
    "# elif(ch == 4):\n",
    "obj.delete(2)\n",
    "print(ls.__len__())\n",
    "print(\"List after deletion\")\n",
    "for i in range(ls.__len__()):\n",
    "    obj.display(ls[i])\n",
    " \n",
    "# elif(ch == 5):\n",
    "obj.update(3, 2)\n",
    "print(ls.__len__())\n",
    "print(\"List after updation\")\n",
    "for i in range(ls.__len__()):\n",
    "    obj.display(ls[i])\n",
    " \n",
    "# else:\n",
    "print(\"Thank You !\")"
   ]
  },
  {
   "cell_type": "markdown",
   "metadata": {},
   "source": [
    "Challenge 4: Implement a Banking Account"
   ]
  },
  {
   "cell_type": "code",
   "execution_count": null,
   "metadata": {},
   "outputs": [],
   "source": []
  },
  {
   "cell_type": "code",
   "execution_count": null,
   "metadata": {},
   "outputs": [],
   "source": [
    "Challenge 5: Handling a Bank Account"
   ]
  },
  {
   "cell_type": "code",
   "execution_count": null,
   "metadata": {},
   "outputs": [],
   "source": [
    "class Bank_Account:\n",
    "    def __init__(self):\n",
    "        self.balance=0\n",
    "        print(\"Welcome to Deposit & Withdrawal Machine!\")\n",
    "        \n",
    "    def deposit(self):\n",
    "        amount=float(input(\"Enter amount to be deposited: \"))\n",
    "        self.balance += amount\n",
    "        print(\"Amount Deposited: \",amount)\n",
    "    def withdraw(self):\n",
    "        amount = float(input(\"Enter amount to withdraw: \"))\n",
    "        if self.balance>=amount:\n",
    "            self.balance-=amount\n",
    "            print(\"You withdraw: \",amount)\n",
    "        else:\n",
    "            print(\"Insufficient balance \")\n",
    "    def display(self):\n",
    "        print(\"Net Available Balance=\",self.balance)\n",
    "#creating an object of class\n",
    "s = Bank_Account()\n",
    "#calling functions with that class\n",
    "s.deposit()\n",
    "s.withdraw()\n",
    "s.display()"
   ]
  },
  {
   "cell_type": "code",
   "execution_count": null,
   "metadata": {},
   "outputs": [],
   "source": []
  }
 ],
 "metadata": {
  "kernelspec": {
   "display_name": "Python 3.10.8 64-bit",
   "language": "python",
   "name": "python3"
  },
  "language_info": {
   "codemirror_mode": {
    "name": "ipython",
    "version": 3
   },
   "file_extension": ".py",
   "mimetype": "text/x-python",
   "name": "python",
   "nbconvert_exporter": "python",
   "pygments_lexer": "ipython3",
   "version": "3.10.8"
  },
  "orig_nbformat": 4,
  "vscode": {
   "interpreter": {
    "hash": "26de051ba29f2982a8de78e945f0abaf191376122a1563185a90213a26c5da77"
   }
  }
 },
 "nbformat": 4,
 "nbformat_minor": 2
}
